{
 "cells": [
  {
   "cell_type": "code",
   "execution_count": 7,
   "id": "91bb0a32",
   "metadata": {},
   "outputs": [],
   "source": [
    "from qdrant_client.http import models\n",
    "from internal_assistant_core import settings, qdrant_client"
   ]
  },
  {
   "cell_type": "code",
   "execution_count": 8,
   "id": "7747d548",
   "metadata": {},
   "outputs": [
    {
     "name": "stdout",
     "output_type": "stream",
     "text": [
      "Collection 'internal-docs-index' berhasil dibuat dengan konfigurasi mirip Azure AI Search 🚀\n"
     ]
    }
   ],
   "source": [
    "# # Nama collection (setara \"internal-docs-index\" di Azure)\n",
    "collection_name = settings.qdrant_collection\n",
    "\n",
    "# Hapus collection lama kalau ada, lalu buat baru\n",
    "if qdrant_client.collection_exists(collection_name):\n",
    "    qdrant_client.delete_collection(collection_name)\n",
    "\n",
    "qdrant_client.create_collection(\n",
    "    collection_name=collection_name,\n",
    "    vectors_config=models.VectorParams(\n",
    "        size=3072,                         # Dimension embedding (text-embedding-3-large)\n",
    "        distance=models.Distance.COSINE    # Metric cosine similarity\n",
    "    ),\n",
    "    hnsw_config=models.HnswConfigDiff(\n",
    "        m=16,\n",
    "        ef_construct=400,\n",
    "        full_scan_threshold=10000\n",
    "    ),\n",
    "    optimizers_config=models.OptimizersConfigDiff(\n",
    "        default_segment_number=2\n",
    "    )\n",
    ")\n",
    "\n",
    "print(f\"Collection '{collection_name}' berhasil dibuat dengan konfigurasi mirip Azure AI Search 🚀\")\n",
    "\n"
   ]
  },
  {
   "cell_type": "code",
   "execution_count": 3,
   "id": "92e41bb7",
   "metadata": {},
   "outputs": [
    {
     "name": "stdout",
     "output_type": "stream",
     "text": [
      "status=<CollectionStatus.GREEN: 'green'> optimizer_status=<OptimizersStatusOneOf.OK: 'ok'> vectors_count=None indexed_vectors_count=0 points_count=0 segments_count=2 config=CollectionConfig(params=CollectionParams(vectors=VectorParams(size=3072, distance=<Distance.COSINE: 'Cosine'>, hnsw_config=None, quantization_config=None, on_disk=None, datatype=None, multivector_config=None), shard_number=1, sharding_method=None, replication_factor=1, write_consistency_factor=1, read_fan_out_factor=None, on_disk_payload=True, sparse_vectors=None), hnsw_config=HnswConfig(m=16, ef_construct=400, full_scan_threshold=10000, max_indexing_threads=0, on_disk=False, payload_m=None), optimizer_config=OptimizersConfig(deleted_threshold=0.2, vacuum_min_vector_number=1000, default_segment_number=2, max_segment_size=None, memmap_threshold=None, indexing_threshold=10000, flush_interval_sec=5, max_optimization_threads=None), wal_config=WalConfig(wal_capacity_mb=32, wal_segments_ahead=0), quantization_config=None, strict_mode_config=StrictModeConfigOutput(enabled=False, max_query_limit=None, max_timeout=None, unindexed_filtering_retrieve=None, unindexed_filtering_update=None, search_max_hnsw_ef=None, search_allow_exact=None, search_max_oversampling=None, upsert_max_batchsize=None, max_collection_vector_size_bytes=None, read_rate_limit=None, write_rate_limit=None, max_collection_payload_size_bytes=None, max_points_count=None, filter_max_conditions=None, condition_max_size=None, multivector_config=None, sparse_config=None)) payload_schema={}\n",
      "count=0\n"
     ]
    }
   ],
   "source": [
    "print(qdrant_client.get_collection(\"internal-docs-index\"))\n",
    "print(qdrant_client.count(\"internal-docs-index\"))\n"
   ]
  },
  {
   "cell_type": "code",
   "execution_count": 4,
   "id": "60b65ff8",
   "metadata": {},
   "outputs": [
    {
     "name": "stdout",
     "output_type": "stream",
     "text": [
      "3\n"
     ]
    }
   ],
   "source": [
    "from depedencies import QdrantVectorStore\n",
    "from internal_assistant_core import vectorstoreQ\n",
    "# 4. Insert data\n",
    "texts = [\"Halo dunia\", \"Ini contoh kalimat\", \"Qdrant test vectorstore\"]\n",
    "vectorstoreQ.add_texts(texts)\n",
    "\n",
    "# 5. Cek jumlah\n",
    "print(qdrant_client.count(\"internal-docs-index\").count)\n"
   ]
  },
  {
   "cell_type": "code",
   "execution_count": null,
   "id": "c4232adb",
   "metadata": {},
   "outputs": [],
   "source": []
  }
 ],
 "metadata": {
  "kernelspec": {
   "display_name": "Python 3",
   "language": "python",
   "name": "python3"
  },
  "language_info": {
   "codemirror_mode": {
    "name": "ipython",
    "version": 3
   },
   "file_extension": ".py",
   "mimetype": "text/x-python",
   "name": "python",
   "nbconvert_exporter": "python",
   "pygments_lexer": "ipython3",
   "version": "3.13.6"
  }
 },
 "nbformat": 4,
 "nbformat_minor": 5
}
